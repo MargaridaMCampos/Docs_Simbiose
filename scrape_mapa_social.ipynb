{
 "cells": [
  {
   "cell_type": "code",
   "execution_count": 24,
   "metadata": {},
   "outputs": [],
   "source": [
    "import numpy as np\n",
    "import pandas as pd\n",
    "import requests\n",
    "import warnings\n",
    "warnings.filterwarnings(\"ignore\")"
   ]
  },
  {
   "cell_type": "code",
   "execution_count": 25,
   "metadata": {},
   "outputs": [],
   "source": [
    "from selenium import webdriver\n",
    "from selenium.webdriver.common.keys import Keys\n",
    "from webdriver_manager.chrome import ChromeDriverManager\n",
    "from selenium import webdriver\n",
    "from selenium.webdriver.common.by import By\n",
    "from selenium.webdriver.support.ui import WebDriverWait\n",
    "from selenium.webdriver.support import expected_conditions as EC\n",
    "from selenium.common.exceptions import TimeoutException\n",
    "from selenium.webdriver.chrome.options import Options"
   ]
  },
  {
   "cell_type": "markdown",
   "metadata": {},
   "source": [
    "## Get links from table elements"
   ]
  },
  {
   "cell_type": "code",
   "execution_count": 81,
   "metadata": {},
   "outputs": [],
   "source": [
    "def get_links(site,n_pages):\n",
    "    links = []\n",
    "    for i in range(1,n_pages+1):\n",
    "        option = webdriver.ChromeOptions()\n",
    "        option.add_argument('headless')\n",
    "        driver = webdriver.Chrome(ChromeDriverManager().install(),options=option)\n",
    "        driver.get(site+f\"?PageId={i}\")\n",
    "        timeout = 30\n",
    "        try:\n",
    "            WebDriverWait(driver, timeout).until(EC.visibility_of_element_located((By.CLASS_NAME, \"listing\")))\n",
    "            tds = driver.find_elements(By.TAG_NAME,\"td\")\n",
    "            for el in tds:\n",
    "                links.append(el.find_element(By.TAG_NAME,'a').get_attribute(\"href\"))\n",
    "            driver.quit()\n",
    "        except TimeoutException:\n",
    "            print('Oh no')\n",
    "            driver.quit()\n",
    "    return links"
   ]
  },
  {
   "cell_type": "code",
   "execution_count": 83,
   "metadata": {},
   "outputs": [
    {
     "name": "stderr",
     "output_type": "stream",
     "text": [
      "\n",
      "\n",
      "====== WebDriver manager ======\n",
      "Current google-chrome version is 97.0.4692\n",
      "Get LATEST chromedriver version for 97.0.4692 google-chrome\n",
      "Driver [/Users/margaridacampos/.wdm/drivers/chromedriver/mac64/97.0.4692.71/chromedriver] found in cache\n",
      "\n",
      "\n",
      "====== WebDriver manager ======\n",
      "Current google-chrome version is 97.0.4692\n",
      "Get LATEST chromedriver version for 97.0.4692 google-chrome\n",
      "Driver [/Users/margaridacampos/.wdm/drivers/chromedriver/mac64/97.0.4692.71/chromedriver] found in cache\n"
     ]
    }
   ],
   "source": [
    "links = get_links('http://www.mapasocial.pt/pt/centro-de-acolhimento-temporario/V11',2)"
   ]
  },
  {
   "cell_type": "code",
   "execution_count": 80,
   "metadata": {},
   "outputs": [
    {
     "name": "stdout",
     "output_type": "stream",
     "text": [
      "There are 93 Centros de Acolhimento Temporário\n"
     ]
    }
   ],
   "source": [
    "unique_links = list(set(links))\n",
    "print(f'There are {len(unique_links)} Centros de Acolhimento Temporário')"
   ]
  },
  {
   "cell_type": "markdown",
   "metadata": {},
   "source": [
    "## Get House Info from link"
   ]
  },
  {
   "cell_type": "code",
   "execution_count": 134,
   "metadata": {},
   "outputs": [],
   "source": [
    "def scrape_page(links):    \n",
    "    info = {'names':[],\n",
    "        'owners':[],\n",
    "        'juridicas':[],\n",
    "        'moradas':[],\n",
    "        'cps':[],\n",
    "        'tels':[],\n",
    "        'emails':[],\n",
    "        'caps':[],\n",
    "        'uts':[],\n",
    "        'hors':[],\n",
    "        'acts':[]\n",
    "       }\n",
    "    for link in links:\n",
    "        print(link)\n",
    "        option = webdriver.ChromeOptions()\n",
    "        option.add_argument('headless')\n",
    "        driver = webdriver.Chrome(ChromeDriverManager().install(),options=option)\n",
    "        driver.get(link)\n",
    "        timeout = 30\n",
    "        try:\n",
    "            WebDriverWait(driver, timeout).until(EC.visibility_of_element_located((By.CLASS_NAME, \"table\")))\n",
    "            name = driver.find_element(By.CLASS_NAME,\"main-heading\").text\n",
    "            props = driver.find_elements(By.CLASS_NAME,\"col-md-6\")\n",
    "            owner = props[0].text.split('\\n')[1]\n",
    "            juridica = props[1].text.split('\\n')[1]\n",
    "            locs = driver.find_elements(By.TAG_NAME,'tr')\n",
    "            morada = (locs[1].find_elements(By.TAG_NAME,'td')[1]).text\n",
    "            cp = (locs[2].find_elements(By.TAG_NAME,'td')[1]).text\n",
    "            tel = (locs[3].find_elements(By.TAG_NAME,'td')[1]).text\n",
    "            email = (locs[4].find_elements(By.TAG_NAME,'td')[1]).text\n",
    "            caps = []\n",
    "            uts = []\n",
    "            hors = []\n",
    "            acts = []\n",
    "            for i in range(6,len(locs)):\n",
    "                caps.append((locs[i].find_elements(By.TAG_NAME,'td')[1]).get_attribute('innerHTML'))\n",
    "                uts.append((locs[i].find_elements(By.TAG_NAME,'td')[2]).get_attribute('innerHTML'))\n",
    "                hors.append((locs[i].find_elements(By.TAG_NAME,'td')[3]).get_attribute('innerHTML'))\n",
    "                acts.append((locs[i].find_elements(By.TAG_NAME,'td')[4]).get_attribute('innerHTML')) \n",
    "            info['names'].append(name)\n",
    "            info['owners'].append(owner)\n",
    "            info['juridicas'].append(juridica)        \n",
    "            info['moradas'].append(morada)        \n",
    "            info['cps'].append(cp)        \n",
    "            info['tels'].append(tel)        \n",
    "            info['emails'].append(email)        \n",
    "            info['caps'].append(caps)        \n",
    "            info['uts'].append(uts)        \n",
    "            info['hors'].append(hors)        \n",
    "            info['acts'].append(acts)           \n",
    "            driver.quit()\n",
    "        except TimeoutException:\n",
    "            print('Oh no')\n",
    "            driver.quit()\n",
    "    return info"
   ]
  },
  {
   "cell_type": "code",
   "execution_count": null,
   "metadata": {},
   "outputs": [],
   "source": [
    "info = scrape_page(unique_links)"
   ]
  },
  {
   "cell_type": "code",
   "execution_count": 33,
   "metadata": {},
   "outputs": [],
   "source": [
    "unable = 'http://www.mapasocial.pt/pt/centro-de-acolhimento-temporario-associacao-a-terra-dos-homens/I7947'"
   ]
  },
  {
   "cell_type": "code",
   "execution_count": 34,
   "metadata": {},
   "outputs": [],
   "source": [
    "clean_links = unique_links.copy()\n",
    "clean_links.remove(unable)"
   ]
  },
  {
   "cell_type": "code",
   "execution_count": 153,
   "metadata": {},
   "outputs": [],
   "source": [
    "def get_df_from_dict(info_dict,clean_links,tipo):\n",
    "    data = pd.DataFrame(info_dict)\n",
    "    data['url'] = clean_links\n",
    "    data_clean = data.copy()\n",
    "    data_clean = data_clean[data_clean.caps!='0']\n",
    "    data_clean['cp'] = data_clean.cps.map(lambda x : x.split()[0])\n",
    "    data_clean['loc'] = data_clean.cps.map(lambda x : (' '.join(x.split()[1:])).upper())\n",
    "    data_clean.drop(columns = 'cps', inplace = True)\n",
    "    data_clean = data_clean.drop(columns = ['caps','uts','hors','acts'])\\\n",
    "            .merge(data_clean[['names','caps','uts','hors','acts']].set_index(['names']).apply(pd.Series.explode).reset_index()\\\n",
    "                   .sort_values(by = 'acts',ascending = False)\\\n",
    "                   .groupby('names').head(1),\n",
    "                  on = 'names', how = 'left')\n",
    "    data_clean.caps = data_clean.caps.astype(int)\n",
    "    data_clean.uts = data_clean.uts.astype(int)\n",
    "    data_clean['Tipo'] = tipo\n",
    "    res = data_clean[['Tipo','names','loc','emails','tels','caps','uts',\n",
    "                'moradas','owners','juridicas','cp','hors','acts']]\\\n",
    "        .rename(columns = {'names': 'Nome',\n",
    "                           'loc': 'Localidade',\n",
    "                           'emails': 'Email',\n",
    "                           'tels': 'Telefone',\n",
    "                           'caps': 'Capacidade',\n",
    "                           'uts': 'Utentes',\n",
    "                           'moradas': 'Morada',\n",
    "                           'owners': 'Dono',\n",
    "                           'juridicas': 'Juridição',\n",
    "                           'cp': 'Codigo Postal',\n",
    "                           'hors': 'Horario',\n",
    "                           'acts': 'Data Info'})\n",
    "    return res"
   ]
  },
  {
   "cell_type": "code",
   "execution_count": 154,
   "metadata": {},
   "outputs": [],
   "source": [
    "casas_temp = get_df_from_dict(info,clean_links,'Centro de Acolhimento Temporário')"
   ]
  },
  {
   "cell_type": "code",
   "execution_count": 155,
   "metadata": {},
   "outputs": [
    {
     "name": "stdout",
     "output_type": "stream",
     "text": [
      "Há capacidade para 1969 das quais 1527(78%) estão ocupadas\n"
     ]
    }
   ],
   "source": [
    "print(f'Há capacidade para {casas_temp.Capacidade.sum()} das quais {casas_temp.Utentes.sum()}({100*(casas_temp.Utentes.sum()/casas_temp.Capacidade.sum()):.0f}%) estão ocupadas')"
   ]
  },
  {
   "cell_type": "code",
   "execution_count": null,
   "metadata": {},
   "outputs": [],
   "source": [
    "links_lares = get_links('http://www.mapasocial.pt/pt/lar-de-infancia-e-juventude/V14',5)"
   ]
  },
  {
   "cell_type": "code",
   "execution_count": 85,
   "metadata": {},
   "outputs": [
    {
     "name": "stdout",
     "output_type": "stream",
     "text": [
      "There are 196 Lares de Infância e Juventude\n"
     ]
    }
   ],
   "source": [
    "unique_links_lares = list(set(links_lares))\n",
    "print(f'There are {len(unique_links_lares)} Lares de Infância e Juventude')"
   ]
  },
  {
   "cell_type": "code",
   "execution_count": null,
   "metadata": {},
   "outputs": [],
   "source": [
    "info_lares = scrape_page(unique_links_lares)"
   ]
  },
  {
   "cell_type": "code",
   "execution_count": 156,
   "metadata": {},
   "outputs": [],
   "source": [
    "lares = get_df_from_dict(info_lares,unique_links_lares,'Lar de Infância e Juventude')"
   ]
  },
  {
   "cell_type": "code",
   "execution_count": 159,
   "metadata": {},
   "outputs": [],
   "source": [
    "casas = pd.concat([casas_temp,lares])\n",
    "casas.to_csv('./casas_mapa_social.csv',index = False)"
   ]
  },
  {
   "cell_type": "code",
   "execution_count": null,
   "metadata": {},
   "outputs": [],
   "source": []
  }
 ],
 "metadata": {
  "kernelspec": {
   "display_name": "Python 3",
   "language": "python",
   "name": "python3"
  },
  "language_info": {
   "codemirror_mode": {
    "name": "ipython",
    "version": 3
   },
   "file_extension": ".py",
   "mimetype": "text/x-python",
   "name": "python",
   "nbconvert_exporter": "python",
   "pygments_lexer": "ipython3",
   "version": "3.8.3"
  }
 },
 "nbformat": 4,
 "nbformat_minor": 4
}
